{
 "cells": [
  {
   "cell_type": "markdown",
   "id": "7d9de213-9c1e-4593-9a21-6e8dd159a911",
   "metadata": {},
   "source": [
    "# Project 1"
   ]
  },
  {
   "cell_type": "markdown",
   "id": "92da6977-fdd5-4aaf-90f6-4a025e00467e",
   "metadata": {},
   "source": [
    "## Pseudo Code"
   ]
  },
  {
   "cell_type": "markdown",
   "id": "95c0ff35-6b8e-430a-a155-f70537bb18fb",
   "metadata": {
    "tags": []
   },
   "source": [
    "### Environment"
   ]
  },
  {
   "cell_type": "markdown",
   "id": "71a52c42-4a06-4778-a45e-cb6edb719a13",
   "metadata": {},
   "source": [
    "Classes:\n",
    "Grid\n",
    "    Constructor: create a blank 6x6 2D array\n",
    "Shelves\n",
    "    Constructor: populate a random shelf configuration\n",
    "        Random numbers if its the same then try again.\n",
    "Agent Location\n",
    "    Constructor: Random starting location that isn't on a Shelf"
   ]
  },
  {
   "cell_type": "markdown",
   "id": "45b10e1d-ff6a-4947-af39-c53f65b20c37",
   "metadata": {},
   "source": []
  },
  {
   "cell_type": "markdown",
   "id": "1f7f821e-ce29-4f1e-9912-c80ed0d71ee0",
   "metadata": {},
   "source": [
    "### Agent"
   ]
  },
  {
   "cell_type": "markdown",
   "id": "7e369fc6-8a47-44ec-b328-d97f1f8de08c",
   "metadata": {},
   "source": [
    "Customer Order\n",
    "    Constructor: Generate random number 1 - 10 and pick random unique shelf combo\n",
    "Sensors\n",
    "    Roll for sensor detection\n",
    "    Add fake shelf\n",
    "    Remove real shelf\n",
    "    Detect shelves\n",
    "Agent function\n",
    "      If any of the grid positions in its neighborhood refers to an item ordered, then it moves to that grid position. If two or more neighboring positions contain ordered items, then the tie is broken by making a random choice between the positions involved. \n",
    "      If none of the neighboring positions contain ordered items, then a random choice is made to move to the next node.\n",
    "Agent State\n",
    "    \n",
    "    \n",
    "Agent Actuator\n",
    "    Move agent\n",
    "        left \n",
    "        right\n",
    "        up\n",
    "        down\n",
    "Agent Items\n",
    "    List of all items collected so far"
   ]
  },
  {
   "cell_type": "code",
   "execution_count": null,
   "id": "3f3b44c8-7257-4b71-8445-0d3b9a559de6",
   "metadata": {},
   "outputs": [],
   "source": [
    "Class agentFunction:\n",
    "    \n",
    "    \n",
    "    \n",
    "    def __init__(self, agentLocation, percept, customerOrder,acutator,randRange):\n",
    "        self.location = agentLocation\n",
    "        self.percept = percept\n",
    "        self.order = customerOrder\n",
    "        self.orderShelfLocations = []\n",
    "        self.actuator = actuator\n",
    "        self.random = randRange\n",
    "        self.visitedList = []\n",
    "        \n",
    "        \n",
    "    def setLocation(agentLocation):\n",
    "        self.location = agentLocation\n",
    "        \n",
    "    def getLocation():\n",
    "        return self.location\n",
    "    \n",
    "    def setPercept(percept):\n",
    "        self.percept = percept\n",
    "        \n",
    "    def getPercept():\n",
    "        return self.percept\n",
    "    \n",
    "    def addShelfLocation(location):\n",
    "        self.orderShelfLocations.push(location)\n",
    "        \n",
    "    def getNextShelfLocation():\n",
    "        return self.orderShelfLocations.pop(0)\n",
    "    \n",
    "    def getCurrentShelfLocation:\n",
    "        return self.currentShelf\n",
    "    \n",
    "    def setCurrentShelfLocation(location):\n",
    "        self.currentShelf = location\n",
    "    #how to handle movement\n",
    "    #have a current movement?\n",
    "    def determineAction():\n",
    "        if (self.percept.onOrderShelf()):\n",
    "            self.actuator.collectItem()\n",
    "            self.currentShelf = \"\"\n",
    "        if (self.percept.detectShelves() == 0):\n",
    "            if (len(self.orderShelfLocation) == 0):\n",
    "                move = self.random(4)\n",
    "                determineRandomMove(move)\n",
    "            else:\n",
    "                if(self.currentShelf != \"\")\n",
    "                    self.actuator.move(self.currentShelf)\n",
    "                else:\n",
    "                    setCurrentShelfLocation(getNextShelfLocation())\n",
    "                    self.actuator.move(self.currentShelf)\n",
    "        if (self.percept.detectShelves() == 1):\n",
    "            self.addShelfLocation(self.percept.getShelfLocation())\n",
    "            self.actuator.move(getNextShelfLocation())\n",
    "        elif (self.percept.detectShelves() > 1):\n",
    "            while (self.percept.hasNextShelfLocation):\n",
    "                self.addShelfLocation(self.percept.getShelfLocation())\n",
    "            self.actuator.move(getNextShelfLocation())\n",
    "            \n",
    "    \n",
    "    def determineRandomMove(move):\n",
    "        if (move == 0):\n",
    "            self.actuator.left()\n",
    "        elif (move == 1):\n",
    "            self.actuator.right()\n",
    "        elif (move == 2):\n",
    "            self.actuator.up()\n",
    "        elif (move == 3):\n",
    "            self.actuator.down()\n"
   ]
  }
 ],
 "metadata": {
  "kernelspec": {
   "display_name": "Python 3",
   "language": "python",
   "name": "python3"
  },
  "language_info": {
   "codemirror_mode": {
    "name": "ipython",
    "version": 3
   },
   "file_extension": ".py",
   "mimetype": "text/x-python",
   "name": "python",
   "nbconvert_exporter": "python",
   "pygments_lexer": "ipython3",
   "version": "3.8.8"
  }
 },
 "nbformat": 4,
 "nbformat_minor": 5
}
